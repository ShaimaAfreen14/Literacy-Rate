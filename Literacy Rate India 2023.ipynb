{
 "cells": [
  {
   "cell_type": "code",
   "execution_count": 1,
   "id": "b8214a3f",
   "metadata": {},
   "outputs": [],
   "source": [
    "import pandas as pd\n",
    "import requests\n",
    "from bs4 import BeautifulSoup"
   ]
  },
  {
   "cell_type": "code",
   "execution_count": 2,
   "id": "cd4fdc28",
   "metadata": {},
   "outputs": [],
   "source": [
    "url='https://www.theglobalstatistics.com/literacy-rate-in-india/'\n",
    "page=requests.get(url).text"
   ]
  },
  {
   "cell_type": "code",
   "execution_count": 3,
   "id": "021ff331",
   "metadata": {},
   "outputs": [],
   "source": [
    "soup=BeautifulSoup(page,'html.parser')"
   ]
  },
  {
   "cell_type": "code",
   "execution_count": 4,
   "id": "fcac06d1",
   "metadata": {},
   "outputs": [],
   "source": [
    "tables=soup.find_all('table')"
   ]
  },
  {
   "cell_type": "code",
   "execution_count": 5,
   "id": "094e506e",
   "metadata": {},
   "outputs": [
    {
     "name": "stderr",
     "output_type": "stream",
     "text": [
      "C:\\Users\\defaultuser0\\AppData\\Local\\Temp\\ipykernel_11640\\4281136505.py:6: FutureWarning: The frame.append method is deprecated and will be removed from pandas in a future version. Use pandas.concat instead.\n",
      "  table1=table1.append({'LITERACY RATE':rates,'PERCENTAGE':perc},ignore_index=True)\n",
      "C:\\Users\\defaultuser0\\AppData\\Local\\Temp\\ipykernel_11640\\4281136505.py:6: FutureWarning: The frame.append method is deprecated and will be removed from pandas in a future version. Use pandas.concat instead.\n",
      "  table1=table1.append({'LITERACY RATE':rates,'PERCENTAGE':perc},ignore_index=True)\n",
      "C:\\Users\\defaultuser0\\AppData\\Local\\Temp\\ipykernel_11640\\4281136505.py:6: FutureWarning: The frame.append method is deprecated and will be removed from pandas in a future version. Use pandas.concat instead.\n",
      "  table1=table1.append({'LITERACY RATE':rates,'PERCENTAGE':perc},ignore_index=True)\n"
     ]
    }
   ],
   "source": [
    "table1=pd.DataFrame(columns=['LITERACY RATE','PERCENTAGE'])\n",
    "for row in soup.find_all('table')[0].find('tbody').find_all('tr'):\n",
    "    col=row.find_all('td')\n",
    "    rates=col[0].text\n",
    "    perc=col[1].text\n",
    "    table1=table1.append({'LITERACY RATE':rates,'PERCENTAGE':perc},ignore_index=True)\n",
    "    "
   ]
  },
  {
   "cell_type": "code",
   "execution_count": 6,
   "id": "7e56eff9",
   "metadata": {},
   "outputs": [
    {
     "data": {
      "text/html": [
       "<div>\n",
       "<style scoped>\n",
       "    .dataframe tbody tr th:only-of-type {\n",
       "        vertical-align: middle;\n",
       "    }\n",
       "\n",
       "    .dataframe tbody tr th {\n",
       "        vertical-align: top;\n",
       "    }\n",
       "\n",
       "    .dataframe thead th {\n",
       "        text-align: right;\n",
       "    }\n",
       "</style>\n",
       "<table border=\"1\" class=\"dataframe\">\n",
       "  <thead>\n",
       "    <tr style=\"text-align: right;\">\n",
       "      <th></th>\n",
       "      <th>LITERACY RATE</th>\n",
       "      <th>PERCENTAGE</th>\n",
       "    </tr>\n",
       "  </thead>\n",
       "  <tbody>\n",
       "    <tr>\n",
       "      <th>0</th>\n",
       "      <td>Literacy Rate of India in 2023</td>\n",
       "      <td>77.7%</td>\n",
       "    </tr>\n",
       "    <tr>\n",
       "      <th>1</th>\n",
       "      <td>Male literacy rate of India in 2023</td>\n",
       "      <td>84.7%</td>\n",
       "    </tr>\n",
       "    <tr>\n",
       "      <th>2</th>\n",
       "      <td>Female literacy rate of India in 2023</td>\n",
       "      <td>70.3%</td>\n",
       "    </tr>\n",
       "  </tbody>\n",
       "</table>\n",
       "</div>"
      ],
      "text/plain": [
       "                           LITERACY RATE PERCENTAGE\n",
       "0         Literacy Rate of India in 2023      77.7%\n",
       "1    Male literacy rate of India in 2023      84.7%\n",
       "2  Female literacy rate of India in 2023      70.3%"
      ]
     },
     "execution_count": 6,
     "metadata": {},
     "output_type": "execute_result"
    }
   ],
   "source": [
    "table1"
   ]
  },
  {
   "cell_type": "code",
   "execution_count": 7,
   "id": "e9a09d09",
   "metadata": {},
   "outputs": [],
   "source": [
    "table1.to_csv('Literacy Rate India 2023.csv')"
   ]
  },
  {
   "cell_type": "code",
   "execution_count": 8,
   "id": "3a314308",
   "metadata": {},
   "outputs": [
    {
     "name": "stderr",
     "output_type": "stream",
     "text": [
      "C:\\Users\\defaultuser0\\AppData\\Local\\Temp\\ipykernel_11640\\1337180334.py:6: FutureWarning: The frame.append method is deprecated and will be removed from pandas in a future version. Use pandas.concat instead.\n",
      "  table2=table2.append({'RURAL/URBAN AREA':area,'PERCENTAGE':perc},ignore_index=True)\n",
      "C:\\Users\\defaultuser0\\AppData\\Local\\Temp\\ipykernel_11640\\1337180334.py:6: FutureWarning: The frame.append method is deprecated and will be removed from pandas in a future version. Use pandas.concat instead.\n",
      "  table2=table2.append({'RURAL/URBAN AREA':area,'PERCENTAGE':perc},ignore_index=True)\n"
     ]
    }
   ],
   "source": [
    "table2=pd.DataFrame(columns=['RURAL/URBAN AREA','PERCENTAGE'])\n",
    "for row in soup.find_all('table')[1].find('tbody').find_all('tr'):\n",
    "    col=row.find_all('td')\n",
    "    area=col[0].text\n",
    "    perc=col[1].text\n",
    "    table2=table2.append({'RURAL/URBAN AREA':area,'PERCENTAGE':perc},ignore_index=True)"
   ]
  },
  {
   "cell_type": "code",
   "execution_count": 9,
   "id": "7e8e1f12",
   "metadata": {},
   "outputs": [
    {
     "data": {
      "text/html": [
       "<div>\n",
       "<style scoped>\n",
       "    .dataframe tbody tr th:only-of-type {\n",
       "        vertical-align: middle;\n",
       "    }\n",
       "\n",
       "    .dataframe tbody tr th {\n",
       "        vertical-align: top;\n",
       "    }\n",
       "\n",
       "    .dataframe thead th {\n",
       "        text-align: right;\n",
       "    }\n",
       "</style>\n",
       "<table border=\"1\" class=\"dataframe\">\n",
       "  <thead>\n",
       "    <tr style=\"text-align: right;\">\n",
       "      <th></th>\n",
       "      <th>RURAL/URBAN AREA</th>\n",
       "      <th>PERCENTAGE</th>\n",
       "    </tr>\n",
       "  </thead>\n",
       "  <tbody>\n",
       "    <tr>\n",
       "      <th>0</th>\n",
       "      <td>Literacy Rate in Urban Areas of India</td>\n",
       "      <td>87.7%</td>\n",
       "    </tr>\n",
       "    <tr>\n",
       "      <th>1</th>\n",
       "      <td>Literacy Rate in Rural Areas of India</td>\n",
       "      <td>73.5%</td>\n",
       "    </tr>\n",
       "  </tbody>\n",
       "</table>\n",
       "</div>"
      ],
      "text/plain": [
       "                        RURAL/URBAN AREA PERCENTAGE\n",
       "0  Literacy Rate in Urban Areas of India      87.7%\n",
       "1  Literacy Rate in Rural Areas of India      73.5%"
      ]
     },
     "execution_count": 9,
     "metadata": {},
     "output_type": "execute_result"
    }
   ],
   "source": [
    "table2"
   ]
  },
  {
   "cell_type": "code",
   "execution_count": 10,
   "id": "b192e471",
   "metadata": {},
   "outputs": [],
   "source": [
    "table2.to_csv('Literacy Rate Rural Urban Area.csv')"
   ]
  },
  {
   "cell_type": "code",
   "execution_count": 11,
   "id": "4a44f7f6",
   "metadata": {},
   "outputs": [
    {
     "name": "stderr",
     "output_type": "stream",
     "text": [
      "C:\\Users\\defaultuser0\\AppData\\Local\\Temp\\ipykernel_11640\\3498118928.py:6: FutureWarning: The frame.append method is deprecated and will be removed from pandas in a future version. Use pandas.concat instead.\n",
      "  table3=table3.append({'HIGHEST LITERACY RATE':high,'PERCENTAGE':perc},ignore_index=True)\n",
      "C:\\Users\\defaultuser0\\AppData\\Local\\Temp\\ipykernel_11640\\3498118928.py:6: FutureWarning: The frame.append method is deprecated and will be removed from pandas in a future version. Use pandas.concat instead.\n",
      "  table3=table3.append({'HIGHEST LITERACY RATE':high,'PERCENTAGE':perc},ignore_index=True)\n",
      "C:\\Users\\defaultuser0\\AppData\\Local\\Temp\\ipykernel_11640\\3498118928.py:6: FutureWarning: The frame.append method is deprecated and will be removed from pandas in a future version. Use pandas.concat instead.\n",
      "  table3=table3.append({'HIGHEST LITERACY RATE':high,'PERCENTAGE':perc},ignore_index=True)\n"
     ]
    }
   ],
   "source": [
    "table3=pd.DataFrame(columns=['HIGHEST LITERACY RATE','PERCENTAGE'])\n",
    "for row in soup.find_all('table')[2].find('tbody').find_all('tr'):\n",
    "    col=row.find_all('td')\n",
    "    high=col[0].text\n",
    "    perc=col[1].text\n",
    "    table3=table3.append({'HIGHEST LITERACY RATE':high,'PERCENTAGE':perc},ignore_index=True)"
   ]
  },
  {
   "cell_type": "code",
   "execution_count": 12,
   "id": "35c7b9e9",
   "metadata": {},
   "outputs": [
    {
     "data": {
      "text/html": [
       "<div>\n",
       "<style scoped>\n",
       "    .dataframe tbody tr th:only-of-type {\n",
       "        vertical-align: middle;\n",
       "    }\n",
       "\n",
       "    .dataframe tbody tr th {\n",
       "        vertical-align: top;\n",
       "    }\n",
       "\n",
       "    .dataframe thead th {\n",
       "        text-align: right;\n",
       "    }\n",
       "</style>\n",
       "<table border=\"1\" class=\"dataframe\">\n",
       "  <thead>\n",
       "    <tr style=\"text-align: right;\">\n",
       "      <th></th>\n",
       "      <th>HIGHEST LITERACY RATE</th>\n",
       "      <th>PERCENTAGE</th>\n",
       "    </tr>\n",
       "  </thead>\n",
       "  <tbody>\n",
       "    <tr>\n",
       "      <th>0</th>\n",
       "      <td>Highest Literacy State in India</td>\n",
       "      <td>Kerala</td>\n",
       "    </tr>\n",
       "    <tr>\n",
       "      <th>1</th>\n",
       "      <td>Highest Male Literacy State in India</td>\n",
       "      <td>Lakshadweep</td>\n",
       "    </tr>\n",
       "    <tr>\n",
       "      <th>2</th>\n",
       "      <td>Highest Female Literacy State in India</td>\n",
       "      <td>Kerala</td>\n",
       "    </tr>\n",
       "  </tbody>\n",
       "</table>\n",
       "</div>"
      ],
      "text/plain": [
       "                    HIGHEST LITERACY RATE   PERCENTAGE\n",
       "0         Highest Literacy State in India       Kerala\n",
       "1    Highest Male Literacy State in India  Lakshadweep\n",
       "2  Highest Female Literacy State in India       Kerala"
      ]
     },
     "execution_count": 12,
     "metadata": {},
     "output_type": "execute_result"
    }
   ],
   "source": [
    "table3"
   ]
  },
  {
   "cell_type": "code",
   "execution_count": 13,
   "id": "6713eace",
   "metadata": {},
   "outputs": [],
   "source": [
    "table3.to_csv('Highest Literacy Rate.csv')"
   ]
  },
  {
   "cell_type": "code",
   "execution_count": 14,
   "id": "3b536466",
   "metadata": {},
   "outputs": [
    {
     "name": "stderr",
     "output_type": "stream",
     "text": [
      "C:\\Users\\defaultuser0\\AppData\\Local\\Temp\\ipykernel_11640\\3536531947.py:6: FutureWarning: The frame.append method is deprecated and will be removed from pandas in a future version. Use pandas.concat instead.\n",
      "  table4=table4.append({'LOWEST LITERACY RATE':low,'PERCENTAGE':perc},ignore_index=True)\n",
      "C:\\Users\\defaultuser0\\AppData\\Local\\Temp\\ipykernel_11640\\3536531947.py:6: FutureWarning: The frame.append method is deprecated and will be removed from pandas in a future version. Use pandas.concat instead.\n",
      "  table4=table4.append({'LOWEST LITERACY RATE':low,'PERCENTAGE':perc},ignore_index=True)\n",
      "C:\\Users\\defaultuser0\\AppData\\Local\\Temp\\ipykernel_11640\\3536531947.py:6: FutureWarning: The frame.append method is deprecated and will be removed from pandas in a future version. Use pandas.concat instead.\n",
      "  table4=table4.append({'LOWEST LITERACY RATE':low,'PERCENTAGE':perc},ignore_index=True)\n"
     ]
    }
   ],
   "source": [
    "table4=pd.DataFrame(columns=['LOWEST LITERACY RATE','PERCENTAGE'])\n",
    "for row in soup.find_all('table')[3].find('tbody').find_all('tr'):\n",
    "    col=row.find_all('td')\n",
    "    low=col[0].text\n",
    "    perc=col[1].text\n",
    "    table4=table4.append({'LOWEST LITERACY RATE':low,'PERCENTAGE':perc},ignore_index=True)"
   ]
  },
  {
   "cell_type": "code",
   "execution_count": 15,
   "id": "7c192d41",
   "metadata": {},
   "outputs": [
    {
     "data": {
      "text/html": [
       "<div>\n",
       "<style scoped>\n",
       "    .dataframe tbody tr th:only-of-type {\n",
       "        vertical-align: middle;\n",
       "    }\n",
       "\n",
       "    .dataframe tbody tr th {\n",
       "        vertical-align: top;\n",
       "    }\n",
       "\n",
       "    .dataframe thead th {\n",
       "        text-align: right;\n",
       "    }\n",
       "</style>\n",
       "<table border=\"1\" class=\"dataframe\">\n",
       "  <thead>\n",
       "    <tr style=\"text-align: right;\">\n",
       "      <th></th>\n",
       "      <th>LOWEST LITERACY RATE</th>\n",
       "      <th>PERCENTAGE</th>\n",
       "    </tr>\n",
       "  </thead>\n",
       "  <tbody>\n",
       "    <tr>\n",
       "      <th>0</th>\n",
       "      <td>Lowest Literacy State in India</td>\n",
       "      <td>Andhra Pradesh</td>\n",
       "    </tr>\n",
       "    <tr>\n",
       "      <th>1</th>\n",
       "      <td>Lowest Male Literacy State in India</td>\n",
       "      <td>Rajasthan</td>\n",
       "    </tr>\n",
       "    <tr>\n",
       "      <th>2</th>\n",
       "      <td>Lowest Female Literacy State in India</td>\n",
       "      <td>Bihar</td>\n",
       "    </tr>\n",
       "  </tbody>\n",
       "</table>\n",
       "</div>"
      ],
      "text/plain": [
       "                    LOWEST LITERACY RATE      PERCENTAGE\n",
       "0         Lowest Literacy State in India  Andhra Pradesh\n",
       "1    Lowest Male Literacy State in India       Rajasthan\n",
       "2  Lowest Female Literacy State in India           Bihar"
      ]
     },
     "execution_count": 15,
     "metadata": {},
     "output_type": "execute_result"
    }
   ],
   "source": [
    "table4"
   ]
  },
  {
   "cell_type": "code",
   "execution_count": 16,
   "id": "e539b4d5",
   "metadata": {},
   "outputs": [],
   "source": [
    "table4.to_csv('Lowest Literacy State.csv')"
   ]
  },
  {
   "cell_type": "code",
   "execution_count": 17,
   "id": "b246958f",
   "metadata": {},
   "outputs": [
    {
     "name": "stderr",
     "output_type": "stream",
     "text": [
      "C:\\Users\\defaultuser0\\AppData\\Local\\Temp\\ipykernel_11640\\2430662370.py:8: FutureWarning: The frame.append method is deprecated and will be removed from pandas in a future version. Use pandas.concat instead.\n",
      "  table5=table5.append({'STATE':states,'LITERACY RATE':rates,'MALE':males,'FEMALE':females},ignore_index=True)\n",
      "C:\\Users\\defaultuser0\\AppData\\Local\\Temp\\ipykernel_11640\\2430662370.py:8: FutureWarning: The frame.append method is deprecated and will be removed from pandas in a future version. Use pandas.concat instead.\n",
      "  table5=table5.append({'STATE':states,'LITERACY RATE':rates,'MALE':males,'FEMALE':females},ignore_index=True)\n",
      "C:\\Users\\defaultuser0\\AppData\\Local\\Temp\\ipykernel_11640\\2430662370.py:8: FutureWarning: The frame.append method is deprecated and will be removed from pandas in a future version. Use pandas.concat instead.\n",
      "  table5=table5.append({'STATE':states,'LITERACY RATE':rates,'MALE':males,'FEMALE':females},ignore_index=True)\n",
      "C:\\Users\\defaultuser0\\AppData\\Local\\Temp\\ipykernel_11640\\2430662370.py:8: FutureWarning: The frame.append method is deprecated and will be removed from pandas in a future version. Use pandas.concat instead.\n",
      "  table5=table5.append({'STATE':states,'LITERACY RATE':rates,'MALE':males,'FEMALE':females},ignore_index=True)\n",
      "C:\\Users\\defaultuser0\\AppData\\Local\\Temp\\ipykernel_11640\\2430662370.py:8: FutureWarning: The frame.append method is deprecated and will be removed from pandas in a future version. Use pandas.concat instead.\n",
      "  table5=table5.append({'STATE':states,'LITERACY RATE':rates,'MALE':males,'FEMALE':females},ignore_index=True)\n",
      "C:\\Users\\defaultuser0\\AppData\\Local\\Temp\\ipykernel_11640\\2430662370.py:8: FutureWarning: The frame.append method is deprecated and will be removed from pandas in a future version. Use pandas.concat instead.\n",
      "  table5=table5.append({'STATE':states,'LITERACY RATE':rates,'MALE':males,'FEMALE':females},ignore_index=True)\n",
      "C:\\Users\\defaultuser0\\AppData\\Local\\Temp\\ipykernel_11640\\2430662370.py:8: FutureWarning: The frame.append method is deprecated and will be removed from pandas in a future version. Use pandas.concat instead.\n",
      "  table5=table5.append({'STATE':states,'LITERACY RATE':rates,'MALE':males,'FEMALE':females},ignore_index=True)\n",
      "C:\\Users\\defaultuser0\\AppData\\Local\\Temp\\ipykernel_11640\\2430662370.py:8: FutureWarning: The frame.append method is deprecated and will be removed from pandas in a future version. Use pandas.concat instead.\n",
      "  table5=table5.append({'STATE':states,'LITERACY RATE':rates,'MALE':males,'FEMALE':females},ignore_index=True)\n",
      "C:\\Users\\defaultuser0\\AppData\\Local\\Temp\\ipykernel_11640\\2430662370.py:8: FutureWarning: The frame.append method is deprecated and will be removed from pandas in a future version. Use pandas.concat instead.\n",
      "  table5=table5.append({'STATE':states,'LITERACY RATE':rates,'MALE':males,'FEMALE':females},ignore_index=True)\n",
      "C:\\Users\\defaultuser0\\AppData\\Local\\Temp\\ipykernel_11640\\2430662370.py:8: FutureWarning: The frame.append method is deprecated and will be removed from pandas in a future version. Use pandas.concat instead.\n",
      "  table5=table5.append({'STATE':states,'LITERACY RATE':rates,'MALE':males,'FEMALE':females},ignore_index=True)\n"
     ]
    }
   ],
   "source": [
    "table5=pd.DataFrame(columns=['STATE','LITERACY RATE','MALE','FEMALE'])\n",
    "for row in soup.find_all('table')[4].find('tbody').find_all('tr'):\n",
    "    col=row.find_all('td')\n",
    "    states=col[0].text\n",
    "    rates=col[1].text\n",
    "    males=col[2].text\n",
    "    females=col[3].text\n",
    "    table5=table5.append({'STATE':states,'LITERACY RATE':rates,'MALE':males,'FEMALE':females},ignore_index=True)\n",
    "    \n",
    "                    "
   ]
  },
  {
   "cell_type": "code",
   "execution_count": 18,
   "id": "f357f480",
   "metadata": {},
   "outputs": [
    {
     "data": {
      "text/html": [
       "<div>\n",
       "<style scoped>\n",
       "    .dataframe tbody tr th:only-of-type {\n",
       "        vertical-align: middle;\n",
       "    }\n",
       "\n",
       "    .dataframe tbody tr th {\n",
       "        vertical-align: top;\n",
       "    }\n",
       "\n",
       "    .dataframe thead th {\n",
       "        text-align: right;\n",
       "    }\n",
       "</style>\n",
       "<table border=\"1\" class=\"dataframe\">\n",
       "  <thead>\n",
       "    <tr style=\"text-align: right;\">\n",
       "      <th></th>\n",
       "      <th>STATE</th>\n",
       "      <th>LITERACY RATE</th>\n",
       "      <th>MALE</th>\n",
       "      <th>FEMALE</th>\n",
       "    </tr>\n",
       "  </thead>\n",
       "  <tbody>\n",
       "    <tr>\n",
       "      <th>0</th>\n",
       "      <td>Kerala</td>\n",
       "      <td>96.2%</td>\n",
       "      <td>96.11%</td>\n",
       "      <td>92.07%</td>\n",
       "    </tr>\n",
       "    <tr>\n",
       "      <th>1</th>\n",
       "      <td>Delhi</td>\n",
       "      <td>88.7%</td>\n",
       "      <td>90.94%</td>\n",
       "      <td>87.33%</td>\n",
       "    </tr>\n",
       "    <tr>\n",
       "      <th>2</th>\n",
       "      <td>Uttarakhand</td>\n",
       "      <td>87.6%</td>\n",
       "      <td>87.4%</td>\n",
       "      <td>70.01%</td>\n",
       "    </tr>\n",
       "    <tr>\n",
       "      <th>3</th>\n",
       "      <td>Himachal Pradesh</td>\n",
       "      <td>86.6%</td>\n",
       "      <td>89.53%</td>\n",
       "      <td>75.93%</td>\n",
       "    </tr>\n",
       "    <tr>\n",
       "      <th>4</th>\n",
       "      <td>Assam</td>\n",
       "      <td>85.9%</td>\n",
       "      <td>77.85%</td>\n",
       "      <td>66.27%</td>\n",
       "    </tr>\n",
       "    <tr>\n",
       "      <th>5</th>\n",
       "      <td>Maharashtra</td>\n",
       "      <td>84.8%</td>\n",
       "      <td>88.38%</td>\n",
       "      <td>75.87%</td>\n",
       "    </tr>\n",
       "    <tr>\n",
       "      <th>6</th>\n",
       "      <td>Punjab</td>\n",
       "      <td>83.7%</td>\n",
       "      <td>80.44%</td>\n",
       "      <td>70.73%</td>\n",
       "    </tr>\n",
       "    <tr>\n",
       "      <th>7</th>\n",
       "      <td>Gujarat</td>\n",
       "      <td>82.4%</td>\n",
       "      <td>85.75%</td>\n",
       "      <td>69.68%</td>\n",
       "    </tr>\n",
       "    <tr>\n",
       "      <th>8</th>\n",
       "      <td>West Bengal</td>\n",
       "      <td>81.69%</td>\n",
       "      <td>70.54%</td>\n",
       "      <td>80.5%</td>\n",
       "    </tr>\n",
       "    <tr>\n",
       "      <th>9</th>\n",
       "      <td>Haryana</td>\n",
       "      <td>80.4%</td>\n",
       "      <td>84.06%</td>\n",
       "      <td>65.94%</td>\n",
       "    </tr>\n",
       "  </tbody>\n",
       "</table>\n",
       "</div>"
      ],
      "text/plain": [
       "              STATE LITERACY RATE    MALE  FEMALE\n",
       "0            Kerala         96.2%  96.11%  92.07%\n",
       "1             Delhi         88.7%  90.94%  87.33%\n",
       "2       Uttarakhand         87.6%   87.4%  70.01%\n",
       "3  Himachal Pradesh         86.6%  89.53%  75.93%\n",
       "4             Assam         85.9%  77.85%  66.27%\n",
       "5       Maharashtra         84.8%  88.38%  75.87%\n",
       "6            Punjab         83.7%  80.44%  70.73%\n",
       "7           Gujarat         82.4%  85.75%  69.68%\n",
       "8       West Bengal        81.69%  70.54%   80.5%\n",
       "9           Haryana         80.4%  84.06%  65.94%"
      ]
     },
     "execution_count": 18,
     "metadata": {},
     "output_type": "execute_result"
    }
   ],
   "source": [
    "table5"
   ]
  },
  {
   "cell_type": "code",
   "execution_count": 19,
   "id": "acafc0bb",
   "metadata": {},
   "outputs": [],
   "source": [
    "table5.to_csv('State-wise Highest Literacy Rate.csv')"
   ]
  },
  {
   "cell_type": "code",
   "execution_count": 20,
   "id": "d7f73045",
   "metadata": {},
   "outputs": [
    {
     "name": "stderr",
     "output_type": "stream",
     "text": [
      "C:\\Users\\defaultuser0\\AppData\\Local\\Temp\\ipykernel_11640\\12774094.py:8: FutureWarning: The frame.append method is deprecated and will be removed from pandas in a future version. Use pandas.concat instead.\n",
      "  table6=table6.append({'STATE':states,'LITERACY RATE':rates,'MALE':males,'FEMALE':females},ignore_index=True)\n",
      "C:\\Users\\defaultuser0\\AppData\\Local\\Temp\\ipykernel_11640\\12774094.py:8: FutureWarning: The frame.append method is deprecated and will be removed from pandas in a future version. Use pandas.concat instead.\n",
      "  table6=table6.append({'STATE':states,'LITERACY RATE':rates,'MALE':males,'FEMALE':females},ignore_index=True)\n",
      "C:\\Users\\defaultuser0\\AppData\\Local\\Temp\\ipykernel_11640\\12774094.py:8: FutureWarning: The frame.append method is deprecated and will be removed from pandas in a future version. Use pandas.concat instead.\n",
      "  table6=table6.append({'STATE':states,'LITERACY RATE':rates,'MALE':males,'FEMALE':females},ignore_index=True)\n",
      "C:\\Users\\defaultuser0\\AppData\\Local\\Temp\\ipykernel_11640\\12774094.py:8: FutureWarning: The frame.append method is deprecated and will be removed from pandas in a future version. Use pandas.concat instead.\n",
      "  table6=table6.append({'STATE':states,'LITERACY RATE':rates,'MALE':males,'FEMALE':females},ignore_index=True)\n",
      "C:\\Users\\defaultuser0\\AppData\\Local\\Temp\\ipykernel_11640\\12774094.py:8: FutureWarning: The frame.append method is deprecated and will be removed from pandas in a future version. Use pandas.concat instead.\n",
      "  table6=table6.append({'STATE':states,'LITERACY RATE':rates,'MALE':males,'FEMALE':females},ignore_index=True)\n"
     ]
    }
   ],
   "source": [
    "table6=pd.DataFrame(columns=['STATE','LITERACY RATE','MALE','FEMALE'])\n",
    "for row in soup.find_all('table')[5].find('tbody').find_all('tr'):\n",
    "    col=row.find_all('td')\n",
    "    states=col[0].text\n",
    "    rates=col[1].text\n",
    "    males=col[2].text\n",
    "    females=col[3].text\n",
    "    table6=table6.append({'STATE':states,'LITERACY RATE':rates,'MALE':males,'FEMALE':females},ignore_index=True)\n",
    "    "
   ]
  },
  {
   "cell_type": "code",
   "execution_count": 21,
   "id": "4be7a344",
   "metadata": {},
   "outputs": [
    {
     "data": {
      "text/html": [
       "<div>\n",
       "<style scoped>\n",
       "    .dataframe tbody tr th:only-of-type {\n",
       "        vertical-align: middle;\n",
       "    }\n",
       "\n",
       "    .dataframe tbody tr th {\n",
       "        vertical-align: top;\n",
       "    }\n",
       "\n",
       "    .dataframe thead th {\n",
       "        text-align: right;\n",
       "    }\n",
       "</style>\n",
       "<table border=\"1\" class=\"dataframe\">\n",
       "  <thead>\n",
       "    <tr style=\"text-align: right;\">\n",
       "      <th></th>\n",
       "      <th>STATE</th>\n",
       "      <th>LITERACY RATE</th>\n",
       "      <th>MALE</th>\n",
       "      <th>FEMALE</th>\n",
       "    </tr>\n",
       "  </thead>\n",
       "  <tbody>\n",
       "    <tr>\n",
       "      <th>0</th>\n",
       "      <td>Andhra Pradesh</td>\n",
       "      <td>66.4</td>\n",
       "      <td>73.4</td>\n",
       "      <td>59.5</td>\n",
       "    </tr>\n",
       "    <tr>\n",
       "      <th>1</th>\n",
       "      <td>Rajasthan</td>\n",
       "      <td>69.7</td>\n",
       "      <td>80.8</td>\n",
       "      <td>57.6</td>\n",
       "    </tr>\n",
       "    <tr>\n",
       "      <th>2</th>\n",
       "      <td>Bihar</td>\n",
       "      <td>70.9</td>\n",
       "      <td>79.7</td>\n",
       "      <td>60.5</td>\n",
       "    </tr>\n",
       "    <tr>\n",
       "      <th>3</th>\n",
       "      <td>Telangana</td>\n",
       "      <td>72.8</td>\n",
       "      <td>80.5</td>\n",
       "      <td>65.1</td>\n",
       "    </tr>\n",
       "    <tr>\n",
       "      <th>4</th>\n",
       "      <td>Uttar Pradesh</td>\n",
       "      <td>73</td>\n",
       "      <td>81.8</td>\n",
       "      <td>63.4</td>\n",
       "    </tr>\n",
       "  </tbody>\n",
       "</table>\n",
       "</div>"
      ],
      "text/plain": [
       "            STATE LITERACY RATE  MALE FEMALE\n",
       "0  Andhra Pradesh          66.4  73.4   59.5\n",
       "1       Rajasthan          69.7  80.8   57.6\n",
       "2           Bihar          70.9  79.7   60.5\n",
       "3       Telangana          72.8  80.5   65.1\n",
       "4   Uttar Pradesh            73  81.8   63.4"
      ]
     },
     "execution_count": 21,
     "metadata": {},
     "output_type": "execute_result"
    }
   ],
   "source": [
    "table6"
   ]
  },
  {
   "cell_type": "code",
   "execution_count": 22,
   "id": "46d43304",
   "metadata": {},
   "outputs": [],
   "source": [
    "table6.to_csv('State-wise Lowest Literacy Rate.csv')"
   ]
  },
  {
   "cell_type": "code",
   "execution_count": 23,
   "id": "cc4b9d4f",
   "metadata": {},
   "outputs": [],
   "source": [
    "url2='https://www.macrotrends.net/countries/IND/india/literacy-rate'\n",
    "page2=requests.get(url2).text"
   ]
  },
  {
   "cell_type": "code",
   "execution_count": 24,
   "id": "add049b1",
   "metadata": {},
   "outputs": [],
   "source": [
    "soup2=BeautifulSoup(page2,'html.parser')"
   ]
  },
  {
   "cell_type": "code",
   "execution_count": 25,
   "id": "0ca5ffdd",
   "metadata": {},
   "outputs": [],
   "source": [
    "tables=pd.read_html(page2)"
   ]
  },
  {
   "cell_type": "code",
   "execution_count": 26,
   "id": "4222fc8e",
   "metadata": {},
   "outputs": [
    {
     "data": {
      "text/html": [
       "<div>\n",
       "<style scoped>\n",
       "    .dataframe tbody tr th:only-of-type {\n",
       "        vertical-align: middle;\n",
       "    }\n",
       "\n",
       "    .dataframe tbody tr th {\n",
       "        vertical-align: top;\n",
       "    }\n",
       "\n",
       "    .dataframe thead tr th {\n",
       "        text-align: left;\n",
       "    }\n",
       "</style>\n",
       "<table border=\"1\" class=\"dataframe\">\n",
       "  <thead>\n",
       "    <tr>\n",
       "      <th></th>\n",
       "      <th colspan=\"3\" halign=\"left\">India Literacy Rate - Historical Data</th>\n",
       "    </tr>\n",
       "    <tr>\n",
       "      <th></th>\n",
       "      <th>Year</th>\n",
       "      <th>Literacy Rate</th>\n",
       "      <th>Annual Change</th>\n",
       "    </tr>\n",
       "  </thead>\n",
       "  <tbody>\n",
       "    <tr>\n",
       "      <th>0</th>\n",
       "      <td>2018</td>\n",
       "      <td>74.37%</td>\n",
       "      <td>5.07%</td>\n",
       "    </tr>\n",
       "    <tr>\n",
       "      <th>1</th>\n",
       "      <td>2011</td>\n",
       "      <td>69.30%</td>\n",
       "      <td>6.55%</td>\n",
       "    </tr>\n",
       "    <tr>\n",
       "      <th>2</th>\n",
       "      <td>2006</td>\n",
       "      <td>62.75%</td>\n",
       "      <td>1.74%</td>\n",
       "    </tr>\n",
       "    <tr>\n",
       "      <th>3</th>\n",
       "      <td>2001</td>\n",
       "      <td>61.01%</td>\n",
       "      <td>12.79%</td>\n",
       "    </tr>\n",
       "    <tr>\n",
       "      <th>4</th>\n",
       "      <td>1991</td>\n",
       "      <td>48.22%</td>\n",
       "      <td>7.46%</td>\n",
       "    </tr>\n",
       "    <tr>\n",
       "      <th>5</th>\n",
       "      <td>1981</td>\n",
       "      <td>40.76%</td>\n",
       "      <td>7.46%</td>\n",
       "    </tr>\n",
       "  </tbody>\n",
       "</table>\n",
       "</div>"
      ],
      "text/plain": [
       "  India Literacy Rate - Historical Data                            \n",
       "                                   Year Literacy Rate Annual Change\n",
       "0                                  2018        74.37%         5.07%\n",
       "1                                  2011        69.30%         6.55%\n",
       "2                                  2006        62.75%         1.74%\n",
       "3                                  2001        61.01%        12.79%\n",
       "4                                  1991        48.22%         7.46%\n",
       "5                                  1981        40.76%         7.46%"
      ]
     },
     "execution_count": 26,
     "metadata": {},
     "output_type": "execute_result"
    }
   ],
   "source": [
    "tables2=tables[1]\n",
    "tables2"
   ]
  },
  {
   "cell_type": "code",
   "execution_count": 27,
   "id": "efcfede1",
   "metadata": {},
   "outputs": [],
   "source": [
    "tables2.to_csv(\"India's Literacy Rate through years.c\")"
   ]
  },
  {
   "cell_type": "code",
   "execution_count": null,
   "id": "db036e23",
   "metadata": {},
   "outputs": [],
   "source": []
  }
 ],
 "metadata": {
  "kernelspec": {
   "display_name": "Python 3 (ipykernel)",
   "language": "python",
   "name": "python3"
  },
  "language_info": {
   "codemirror_mode": {
    "name": "ipython",
    "version": 3
   },
   "file_extension": ".py",
   "mimetype": "text/x-python",
   "name": "python",
   "nbconvert_exporter": "python",
   "pygments_lexer": "ipython3",
   "version": "3.10.7"
  }
 },
 "nbformat": 4,
 "nbformat_minor": 5
}
